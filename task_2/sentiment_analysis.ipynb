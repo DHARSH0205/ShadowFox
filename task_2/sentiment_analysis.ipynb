{
 "cells": [
  {
   "cell_type": "code",
   "execution_count": 5,
   "id": "64da8f4a-dbeb-4c85-a7c4-52e2d0b1a375",
   "metadata": {},
   "outputs": [],
   "source": [
    "import pandas as pd\n",
    "import matplotlib.pyplot as plt\n",
    "import seaborn as sns\n",
    "from vaderSentiment.vaderSentiment import SentimentIntensityAnalyzer"
   ]
  },
  {
   "cell_type": "code",
   "execution_count": 29,
   "id": "713dde39-3642-4d4a-bde4-fb9ee824cd20",
   "metadata": {},
   "outputs": [
    {
     "data": {
      "text/html": [
       "<div>\n",
       "<style scoped>\n",
       "    .dataframe tbody tr th:only-of-type {\n",
       "        vertical-align: middle;\n",
       "    }\n",
       "\n",
       "    .dataframe tbody tr th {\n",
       "        vertical-align: top;\n",
       "    }\n",
       "\n",
       "    .dataframe thead th {\n",
       "        text-align: right;\n",
       "    }\n",
       "</style>\n",
       "<table border=\"1\" class=\"dataframe\">\n",
       "  <thead>\n",
       "    <tr style=\"text-align: right;\">\n",
       "      <th></th>\n",
       "      <th>clean_text</th>\n",
       "      <th>category</th>\n",
       "    </tr>\n",
       "  </thead>\n",
       "  <tbody>\n",
       "    <tr>\n",
       "      <th>0</th>\n",
       "      <td>when modi promised “minimum government maximum...</td>\n",
       "      <td>-1.0</td>\n",
       "    </tr>\n",
       "    <tr>\n",
       "      <th>1</th>\n",
       "      <td>talk all the nonsense and continue all the dra...</td>\n",
       "      <td>0.0</td>\n",
       "    </tr>\n",
       "    <tr>\n",
       "      <th>2</th>\n",
       "      <td>what did just say vote for modi  welcome bjp t...</td>\n",
       "      <td>1.0</td>\n",
       "    </tr>\n",
       "    <tr>\n",
       "      <th>3</th>\n",
       "      <td>asking his supporters prefix chowkidar their n...</td>\n",
       "      <td>1.0</td>\n",
       "    </tr>\n",
       "    <tr>\n",
       "      <th>4</th>\n",
       "      <td>answer who among these the most powerful world...</td>\n",
       "      <td>1.0</td>\n",
       "    </tr>\n",
       "  </tbody>\n",
       "</table>\n",
       "</div>"
      ],
      "text/plain": [
       "                                          clean_text  category\n",
       "0  when modi promised “minimum government maximum...      -1.0\n",
       "1  talk all the nonsense and continue all the dra...       0.0\n",
       "2  what did just say vote for modi  welcome bjp t...       1.0\n",
       "3  asking his supporters prefix chowkidar their n...       1.0\n",
       "4  answer who among these the most powerful world...       1.0"
      ]
     },
     "execution_count": 29,
     "metadata": {},
     "output_type": "execute_result"
    }
   ],
   "source": [
    "df = pd.read_csv(\"X data.csv\")\n",
    "df.head()"
   ]
  },
  {
   "cell_type": "code",
   "execution_count": 30,
   "id": "b8e309db-63c4-411f-a90a-8da4ef6d1f42",
   "metadata": {},
   "outputs": [],
   "source": [
    "text_column = \"clean_text\"  \n",
    "df = df.dropna(subset=[text_column]) \n",
    "\n",
    "text_column = \"category\"  \n",
    "df = df.dropna(subset=[text_column]) "
   ]
  },
  {
   "cell_type": "code",
   "execution_count": 31,
   "id": "61d1a01e-b072-4cf6-92f1-933be9761f5f",
   "metadata": {},
   "outputs": [
    {
     "data": {
      "text/plain": [
       "clean_text    0\n",
       "category      0\n",
       "dtype: int64"
      ]
     },
     "execution_count": 31,
     "metadata": {},
     "output_type": "execute_result"
    }
   ],
   "source": [
    "df.isnull().sum()"
   ]
  },
  {
   "cell_type": "code",
   "execution_count": 32,
   "id": "5a9a171b-abb7-4e1d-a468-45a57a4184f2",
   "metadata": {},
   "outputs": [],
   "source": [
    "analyzer = SentimentIntensityAnalyzer()"
   ]
  },
  {
   "cell_type": "code",
   "execution_count": 33,
   "id": "98c6fcc6-8c62-4312-ad31-779416feea05",
   "metadata": {},
   "outputs": [],
   "source": [
    "def get_sentiment_scores(text):\n",
    "    scores = analyzer.polarity_scores(str(text))\n",
    "    return pd.Series([\n",
    "        scores['pos'], \n",
    "        scores['neg'], \n",
    "        scores['neu'], \n",
    "        scores['compound']\n",
    "    ])\n",
    "\n",
    "df[['pos', 'neg', 'neu', 'compound']] = df[text_column].apply(get_sentiment_scores)"
   ]
  },
  {
   "cell_type": "code",
   "execution_count": 34,
   "id": "cc5723e2-9e90-4997-a350-011da065204b",
   "metadata": {},
   "outputs": [],
   "source": [
    "def label_sentiment(c):\n",
    "    if c >= 0.05:\n",
    "        return \"Positive\"\n",
    "    elif c <= -0.05:\n",
    "        return \"Negative\"\n",
    "    else:\n",
    "        return \"Neutral\"\n",
    "\n",
    "df['sentiment_label'] = df['compound'].apply(label_sentiment)"
   ]
  },
  {
   "cell_type": "code",
   "execution_count": 37,
   "id": "8d164517-6052-4c32-8b9f-0346aa36b8f9",
   "metadata": {},
   "outputs": [
    {
     "name": "stdout",
     "output_type": "stream",
     "text": [
      "Scored dataset saved as x_sentiment_scored.csv\n"
     ]
    }
   ],
   "source": [
    "df.to_csv(\"x_sentiment_scored.csv\", index=False)\n",
    "print(\"Scored dataset saved as x_sentiment_scored.csv\")"
   ]
  },
  {
   "cell_type": "code",
   "execution_count": 38,
   "id": "d9392619-0c0b-47f9-a4c8-417b17082072",
   "metadata": {},
   "outputs": [
    {
     "data": {
      "text/html": [
       "<div>\n",
       "<style scoped>\n",
       "    .dataframe tbody tr th:only-of-type {\n",
       "        vertical-align: middle;\n",
       "    }\n",
       "\n",
       "    .dataframe tbody tr th {\n",
       "        vertical-align: top;\n",
       "    }\n",
       "\n",
       "    .dataframe thead th {\n",
       "        text-align: right;\n",
       "    }\n",
       "</style>\n",
       "<table border=\"1\" class=\"dataframe\">\n",
       "  <thead>\n",
       "    <tr style=\"text-align: right;\">\n",
       "      <th></th>\n",
       "      <th>clean_text</th>\n",
       "      <th>category</th>\n",
       "      <th>pos</th>\n",
       "      <th>neg</th>\n",
       "      <th>neu</th>\n",
       "      <th>compound</th>\n",
       "      <th>sentiment_label</th>\n",
       "    </tr>\n",
       "  </thead>\n",
       "  <tbody>\n",
       "    <tr>\n",
       "      <th>0</th>\n",
       "      <td>when modi promised “minimum government maximum...</td>\n",
       "      <td>-1.0</td>\n",
       "      <td>0.0</td>\n",
       "      <td>0.0</td>\n",
       "      <td>1.0</td>\n",
       "      <td>0.0</td>\n",
       "      <td>Neutral</td>\n",
       "    </tr>\n",
       "    <tr>\n",
       "      <th>1</th>\n",
       "      <td>talk all the nonsense and continue all the dra...</td>\n",
       "      <td>0.0</td>\n",
       "      <td>0.0</td>\n",
       "      <td>0.0</td>\n",
       "      <td>1.0</td>\n",
       "      <td>0.0</td>\n",
       "      <td>Neutral</td>\n",
       "    </tr>\n",
       "    <tr>\n",
       "      <th>2</th>\n",
       "      <td>what did just say vote for modi  welcome bjp t...</td>\n",
       "      <td>1.0</td>\n",
       "      <td>0.0</td>\n",
       "      <td>0.0</td>\n",
       "      <td>1.0</td>\n",
       "      <td>0.0</td>\n",
       "      <td>Neutral</td>\n",
       "    </tr>\n",
       "    <tr>\n",
       "      <th>3</th>\n",
       "      <td>asking his supporters prefix chowkidar their n...</td>\n",
       "      <td>1.0</td>\n",
       "      <td>0.0</td>\n",
       "      <td>0.0</td>\n",
       "      <td>1.0</td>\n",
       "      <td>0.0</td>\n",
       "      <td>Neutral</td>\n",
       "    </tr>\n",
       "    <tr>\n",
       "      <th>4</th>\n",
       "      <td>answer who among these the most powerful world...</td>\n",
       "      <td>1.0</td>\n",
       "      <td>0.0</td>\n",
       "      <td>0.0</td>\n",
       "      <td>1.0</td>\n",
       "      <td>0.0</td>\n",
       "      <td>Neutral</td>\n",
       "    </tr>\n",
       "  </tbody>\n",
       "</table>\n",
       "</div>"
      ],
      "text/plain": [
       "                                          clean_text  category  pos  neg  neu  \\\n",
       "0  when modi promised “minimum government maximum...      -1.0  0.0  0.0  1.0   \n",
       "1  talk all the nonsense and continue all the dra...       0.0  0.0  0.0  1.0   \n",
       "2  what did just say vote for modi  welcome bjp t...       1.0  0.0  0.0  1.0   \n",
       "3  asking his supporters prefix chowkidar their n...       1.0  0.0  0.0  1.0   \n",
       "4  answer who among these the most powerful world...       1.0  0.0  0.0  1.0   \n",
       "\n",
       "   compound sentiment_label  \n",
       "0       0.0         Neutral  \n",
       "1       0.0         Neutral  \n",
       "2       0.0         Neutral  \n",
       "3       0.0         Neutral  \n",
       "4       0.0         Neutral  "
      ]
     },
     "execution_count": 38,
     "metadata": {},
     "output_type": "execute_result"
    }
   ],
   "source": [
    "df2 = pd.read_csv(\"x_sentiment_scored.csv\")\n",
    "df2.head()"
   ]
  },
  {
   "cell_type": "code",
   "execution_count": 36,
   "id": "88227b24-b36d-4896-801d-ca1a31f8e879",
   "metadata": {},
   "outputs": [],
   "source": [
    "sentiment_counts = df['sentiment_label'].value_counts()"
   ]
  },
  {
   "cell_type": "code",
   "execution_count": 12,
   "id": "8637ce40-4781-49eb-ba99-b0700bde4c1f",
   "metadata": {},
   "outputs": [
    {
     "data": {
      "image/png": "[encoded data removed]",
      "text/plain": [
       "<Figure size 600x400 with 1 Axes>"
      ]
     },
     "metadata": {},
     "output_type": "display_data"
    }
   ],
   "source": [
    "plt.figure(figsize=(6,4))\n",
    "sns.barplot(x=sentiment_counts.index, y=sentiment_counts.values)\n",
    "plt.title(\"Sentiment Distribution (Counts)\")\n",
    "plt.xlabel(\"Sentiment\")\n",
    "plt.ylabel(\"Number of Posts\")\n",
    "plt.savefig(\"sentiment_counts.png\")\n",
    "plt.show()"
   ]
  },
  {
   "cell_type": "code",
   "execution_count": 13,
   "id": "b79281da-fa72-423e-b3ab-2865a906a7ab",
   "metadata": {},
   "outputs": [
    {
     "data": {
      "image/png": "[encoded data removed]",
      "text/plain": [
       "<Figure size 600x400 with 1 Axes>"
      ]
     },
     "metadata": {},
     "output_type": "display_data"
    }
   ],
   "source": [
    "plt.figure(figsize=(6,4))\n",
    "(sentiment_counts / len(df) * 100).plot(kind='bar', color=['green','red','blue'])\n",
    "plt.title(\"Sentiment Distribution (Percentage)\")\n",
    "plt.ylabel(\"Percentage %\")\n",
    "plt.savefig(\"sentiment_percentages.png\")\n",
    "plt.show()"
   ]
  },
  {
   "cell_type": "code",
   "execution_count": 14,
   "id": "81f61573-bae3-4604-ab12-b363901f141c",
   "metadata": {},
   "outputs": [
    {
     "name": "stdout",
     "output_type": "stream",
     "text": [
      "Total Posts: 162976\n",
      "sentiment_label\n",
      "Positive    76492\n",
      "Negative    50776\n",
      "Neutral     35708\n",
      "Name: count, dtype: int64\n",
      "Dominant Sentiment: Positive\n"
     ]
    }
   ],
   "source": [
    "print(\"Total Posts:\", len(df))\n",
    "print(sentiment_counts)\n",
    "print(\"Dominant Sentiment:\", sentiment_counts.idxmax())"
   ]
  },
  {
   "cell_type": "markdown",
   "id": "32b72f17-a59a-4418-a05b-f670b2dfa4df",
   "metadata": {},
   "source": [
    "# Research Questions and answers\n",
    "\n",
    "## 1. What is the general distribution of sentiment about X?\n",
    "\n",
    "    While negative tweets make up a lower percentage, the bulk of tweets are categorised as positive, followed by neutral.  This suggests that, contrary to popular belief, discussions about X are not exclusively negative.\n",
    "\n",
    "## 2. Which emotion predominates in the conversations?\n",
    "\n",
    "     Positive posts predominate on the site based on sentiment counts, indicating a more upbeat or encouraging tone in conversations overall.  Additionally noteworthy are neutral posts, which imply that a large number of users share objective or non-emotional information.\n",
    "\n",
    "## 3. How often are negative opinions?\n",
    "\n",
    "    A significant portion of tweets are unfavourable, but they are by no means the majority.  Since they frequently represent animosity, hate speech, or criticism, which can affect discussions and user experiences, these are crucial to monitor.\n",
    "\n",
    "## 4. What do these observations tell us about how people feel about X?\n",
    "\n",
    "    The results indicate that although negativity does exist, it is not the main factor influencing conversations. Rather, neutral and upbeat tones predominate, offering a more wholesome viewpoint on platform conversations. To combat hate and false information, it is still essential to keep an eye on unfavourable feelings.\n",
    "\n",
    "## 5. What do these observations tell us about how people feel about X?\n",
    "\n",
    "    The results indicate that although negativity does exist, it is not the main factor influencing conversations. Rather, neutral and upbeat tones predominate, offering a more wholesome viewpoint on platform conversations. To combat hate and false information, it is still essential to keep an eye on unfavourable feelings."
   ]
  },
  {
   "cell_type": "markdown",
   "id": "5ffec274-f8e1-4deb-8203-9f8b0f8da99a",
   "metadata": {},
   "source": [
    "## Conclusion"
   ]
  },
  {
   "cell_type": "markdown",
   "id": "deebb04d-2b1d-4171-9944-2f6567eccbff",
   "metadata": {},
   "source": [
    "### This sentiment analysis highlights the emotional pulse of users on X.\n",
    "\n",
    "    Majority sentiment is positive, showing supportive discussions.\n",
    "    Negative sentiment peaks around controversial topics, indicating public  dissatisfaction.\n",
    "    Neutral tweets serve as informational anchors.\n",
    "\n",
    "### Such insights can be useful for:\n",
    "\n",
    "    Policymakers (gauge public opinion).\n",
    "    Businesses (customer feedback analysis).\n",
    "    Researchers (social media trend analysis)."
   ]
  }
 ],
 "metadata": {
  "kernelspec": {
   "display_name": "Python 3 (ipykernel)",
   "language": "python",
   "name": "python3"
  },
  "language_info": {
   "codemirror_mode": {
    "name": "ipython",
    "version": 3
   },
   "file_extension": ".py",
   "mimetype": "text/x-python",
   "name": "python",
   "nbconvert_exporter": "python",
   "pygments_lexer": "ipython3",
   "version": "3.12.7"
  }
 },
 "nbformat": 4,
 "nbformat_minor": 5
}
